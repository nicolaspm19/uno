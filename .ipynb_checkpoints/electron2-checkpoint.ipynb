{
 "cells": [
  {
   "cell_type": "code",
   "execution_count": 7,
   "metadata": {
    "collapsed": false
   },
   "outputs": [],
   "source": [
    "import numpy as np\n",
    "import matplotlib.pyplot as plt\n",
    "\n",
    "delta = (0.2*10**-5)/(2000.0)\n",
    "tmin = 0.0\n",
    "tmax = 0.2*10**-5\n",
    "ancho = int((tmax-tmin)/h)\n",
    "B = 5*10**-5\n",
    "lamda=-10**(-12)\n",
    "E0=9*10**-12\n",
    "rqm=-1.76*10**11\n",
    "pi=3.14159\n",
    "t0=np.zeros(ancho)\n",
    "x1=np.zeros(ancho)\n",
    "vx1=np.zeros(ancho)\n",
    "y1=np.zeros(ancho)\n",
    "vy1=np.zeros(ancho)"
   ]
  },
  {
   "cell_type": "code",
   "execution_count": 8,
   "metadata": {
    "collapsed": false
   },
   "outputs": [],
   "source": [
    "def rk4(t,x0, y0,vx0,vy0):\n",
    "    k1x_prime1 = dfx(t,x0,y0,vx0,vy0)\n",
    "    k1x_prime2 = d2fx(t,x0,y0,vx0,vy0)\n",
    "    k1y_prime1 = dfy(t,x0,y0,vx0,vy0)\n",
    "    k1y_prime2 = d2fy(t,x0,y0,vx0,vy0)\n",
    "    #primer paso\n",
    "    t1 = t + (h/2.0)\n",
    "    x_1 = x0 + (h/2.0) * k1x_prime1\n",
    "    vx_1 = vx0 + (h/2.0) * k1x_prime2\n",
    "    y_1 = y0 + (h/2.0) * k1y_prime1\n",
    "    vy_1 = vy0 + (h/2.0) * k1y_prime2\n",
    "    k2x_prime1 = dfx(t1, x_1, y_1,vx_1,vy_1)\n",
    "    k2x_prime2 = d2fx(t1, x_1, y_1,vx_1,vy_1)\n",
    "    k2y_prime1 = dfy(t1, x_1, y_1,vx_1,vy_1)\n",
    "    k2y_prime2 = d2fy(t1, x_1, y_1,vx_1,vy_1)\n",
    "    t2 = t + (h/2.0)\n",
    "    x_2 = x0 + (h/2.0) * k2x_prime1\n",
    "    vx_2 = vx0 + (h/2.0) * k2x_prime2\n",
    "    y_2 = y0 + (h/2.0) * k2y_prime1\n",
    "    vy_2 = vy0 + (h/2.0) * k2y_prime2\n",
    "    k3x_prime1 = dfx(t2, x_2, y_2,vx_2,vy_2)\n",
    "    k3x_prime2 = d2fx(t2, x_2, y_2,vx_2,vy_2)\n",
    "    k3y_prime1 = dfy(t2, x_2, y_2,vx_2,vy_2)\n",
    "    k3y_prime2 = d2fy(t2, x_2, y_2,vx_2,vy_2)\n",
    "    #tercer paso\n",
    "    t3 =t + h\n",
    "    x_3 = x0 + h * k3x_prime1\n",
    "    vx_3 = vx0 + h * k3x_prime2\n",
    "    y_3 = y0 + h * k3y_prime1\n",
    "    vy_3 = vy0 + h * k3y_prime2\n",
    "    k4x_prime1 = dfx(t3, x_3, y_3,vx_3,vy_3)\n",
    "    k4x_prime2 = d2fx(t3, x_3, y_3,vx_3,vy_3)\n",
    "    k4y_prime1 = dfy(t3, x_3, y_3,vx_3,vy_3)\n",
    "    k4y_prime2 = d2fy(t3, x_3, y_3,vx_3,vy_3)\n",
    "    #cuarto paso\n",
    "    averagekx_1 = (1.0/6.0)*(k1x_prime1 + 2.0*k2x_prime1 + 2.0*k3x_prime1 + k4x_prime1)\n",
    "    averagekvx_2 = (1.0/6.0)*(k1x_prime2 + 2.0*k2x_prime2 + 2.0*k3x_prime2 + k4x_prime2)\n",
    "    averageky_1 = (1.0/6.0)*(k1y_prime1 + 2.0*k2y_prime1 + 2.0*k3y_prime1 + k4y_prime1)\n",
    "    averagekvy_2 = (1.0/6.0)*(k1y_prime2 + 2.0*k2y_prime2 + 2.0*k3y_prime2 + k4y_prime2)\n",
    "    tnew = t + h\n",
    "    x1new = x0 + h * averagekx_1\n",
    "    vx2new= vx0 + h * averagekvx_2\n",
    "    y1new = y0 + h*averageky_1\n",
    "    vy2new= vy0 + h * averagekvy_2\n",
    "    return tnew, x1new,y1new,vx2new,vy2new          "
   ]
  },
  {
   "cell_type": "code",
   "execution_count": 9,
   "metadata": {
    "collapsed": true
   },
   "outputs": [],
   "source": [
    "def dfx(t,x, y, vx, vy):\n",
    "    return vx\n",
    "def dfy(t,x, y, vx, vy):\n",
    "    return vy\n",
    "def d2fx(t,x, y, vx, vy):\n",
    "    return  rqm*B*vy + (rqm*lamda*x)/(2*pi*E0*(x**2 +y**2))\n",
    "def d2fy(t,x, y, vx, vy):\n",
    "    return -rqm*B*vx + (rqm*lamda*y)/(2*pi*E0*(x**2 +y**2))"
   ]
  },
  {
   "cell_type": "code",
   "execution_count": 10,
   "metadata": {
    "collapsed": false
   },
   "outputs": [
    {
     "data": {
      "text/plain": [
       "1999"
      ]
     },
     "execution_count": 10,
     "metadata": {},
     "output_type": "execute_result"
    }
   ],
   "source": [
    "t0[0]=tmin\n",
    "x1[0] = 2.0\n",
    "y1[0] = 2.0 \n",
    "vx1[0] = 0.0\n",
    "vy1[0] = -3000.0   \n",
    "#rk4(t0[100],x1[100],y1[100],vx1[100],vy1[100])\n",
    "\n",
    "for i in range(1,ancho):\n",
    "    t0[i],x1[i],y1[i],vx1[i],vy1[i]  = rk4(t0[i-1],x1[i-1],y1[i-1],vx1[i-1],vy1[i-1])\n",
    "a=x1\n",
    "b=y1\n",
    "len(a)\n"
   ]
  },
  {
   "cell_type": "code",
   "execution_count": 12,
   "metadata": {
    "collapsed": false
   },
   "outputs": [
    {
     "data": {
      "image/png": "[encoded data removed]",
      "text/plain": [
       "<matplotlib.figure.Figure at 0x7f0a05687fd0>"
      ]
     },
     "metadata": {},
     "output_type": "display_data"
    },
    {
     "data": {
      "text/plain": [
       "<matplotlib.figure.Figure at 0x7f0a05687b50>"
      ]
     },
     "metadata": {},
     "output_type": "display_data"
    },
    {
     "data": {
      "text/plain": [
       "<matplotlib.text.Text at 0x7f09ebe9dd10>"
      ]
     },
     "execution_count": 12,
     "metadata": {},
     "output_type": "execute_result"
    }
   ],
   "source": [
    "plt.figure()\n",
    "plt.show()\n",
    "plt.plot(b,a,'b')\n",
    "plt.grid()\n",
    "plt.xlabel('x(m)')\n",
    "plt.ylabel('y(m)')\n",
    "#plt.savefig(\"xvsy.pdf\")\n",
    "#plt.close()\n",
    "\n"
   ]
  },
  {
   "cell_type": "code",
   "execution_count": null,
   "metadata": {
    "collapsed": true
   },
   "outputs": [],
   "source": []
  },
  {
   "cell_type": "code",
   "execution_count": null,
   "metadata": {
    "collapsed": true
   },
   "outputs": [],
   "source": []
  }
 ],
 "metadata": {
  "kernelspec": {
   "display_name": "Python 2",
   "language": "python",
   "name": "python2"
  },
  "language_info": {
   "codemirror_mode": {
    "name": "ipython",
    "version": 2
   },
   "file_extension": ".py",
   "mimetype": "text/x-python",
   "name": "python",
   "nbconvert_exporter": "python",
   "pygments_lexer": "ipython2",
   "version": "2.7.13"
  }
 },
 "nbformat": 4,
 "nbformat_minor": 2
}
